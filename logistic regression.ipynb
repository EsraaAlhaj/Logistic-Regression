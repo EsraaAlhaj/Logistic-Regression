{
 "cells": [
  {
   "cell_type": "code",
   "execution_count": 1,
   "id": "a4c4e329-8181-493f-91f0-9d34e7a46ff8",
   "metadata": {},
   "outputs": [],
   "source": [
    "import pandas as pd\n",
    "import statsmodels.api as sm \n",
    "import numpy as np"
   ]
  },
  {
   "cell_type": "code",
   "execution_count": 2,
   "id": "49ac031c-2bab-4e62-893b-016094ea8bad",
   "metadata": {},
   "outputs": [
    {
     "data": {
      "text/html": [
       "<div>\n",
       "<style scoped>\n",
       "    .dataframe tbody tr th:only-of-type {\n",
       "        vertical-align: middle;\n",
       "    }\n",
       "\n",
       "    .dataframe tbody tr th {\n",
       "        vertical-align: top;\n",
       "    }\n",
       "\n",
       "    .dataframe thead th {\n",
       "        text-align: right;\n",
       "    }\n",
       "</style>\n",
       "<table border=\"1\" class=\"dataframe\">\n",
       "  <thead>\n",
       "    <tr style=\"text-align: right;\">\n",
       "      <th></th>\n",
       "      <th>order_number</th>\n",
       "      <th>gender</th>\n",
       "      <th>age_group</th>\n",
       "      <th>new_customer</th>\n",
       "      <th>fast_delivery</th>\n",
       "      <th>loyalty_program</th>\n",
       "      <th>discount_rate</th>\n",
       "      <th>average_item_value</th>\n",
       "      <th>items_per_order</th>\n",
       "      <th>profit</th>\n",
       "    </tr>\n",
       "  </thead>\n",
       "  <tbody>\n",
       "    <tr>\n",
       "      <th>0</th>\n",
       "      <td>5.721630e+12</td>\n",
       "      <td>Female</td>\n",
       "      <td>not specified</td>\n",
       "      <td>0</td>\n",
       "      <td>0</td>\n",
       "      <td>0</td>\n",
       "      <td>0.58</td>\n",
       "      <td>25</td>\n",
       "      <td>10</td>\n",
       "      <td>-78</td>\n",
       "    </tr>\n",
       "    <tr>\n",
       "      <th>1</th>\n",
       "      <td>4.965100e+12</td>\n",
       "      <td>Female</td>\n",
       "      <td>not specified</td>\n",
       "      <td>0</td>\n",
       "      <td>0</td>\n",
       "      <td>0</td>\n",
       "      <td>0.32</td>\n",
       "      <td>41</td>\n",
       "      <td>1</td>\n",
       "      <td>2</td>\n",
       "    </tr>\n",
       "    <tr>\n",
       "      <th>2</th>\n",
       "      <td>7.182790e+12</td>\n",
       "      <td>Male</td>\n",
       "      <td>not specified</td>\n",
       "      <td>0</td>\n",
       "      <td>0</td>\n",
       "      <td>0</td>\n",
       "      <td>0.39</td>\n",
       "      <td>54</td>\n",
       "      <td>2</td>\n",
       "      <td>17</td>\n",
       "    </tr>\n",
       "    <tr>\n",
       "      <th>3</th>\n",
       "      <td>5.708210e+12</td>\n",
       "      <td>Female</td>\n",
       "      <td>not specified</td>\n",
       "      <td>0</td>\n",
       "      <td>0</td>\n",
       "      <td>0</td>\n",
       "      <td>0.45</td>\n",
       "      <td>16</td>\n",
       "      <td>2</td>\n",
       "      <td>-8</td>\n",
       "    </tr>\n",
       "    <tr>\n",
       "      <th>4</th>\n",
       "      <td>8.485200e+12</td>\n",
       "      <td>Female</td>\n",
       "      <td>not specified</td>\n",
       "      <td>0</td>\n",
       "      <td>0</td>\n",
       "      <td>0</td>\n",
       "      <td>0.31</td>\n",
       "      <td>14</td>\n",
       "      <td>5</td>\n",
       "      <td>-5</td>\n",
       "    </tr>\n",
       "  </tbody>\n",
       "</table>\n",
       "</div>"
      ],
      "text/plain": [
       "   order_number  gender      age_group  new_customer  fast_delivery  \\\n",
       "0  5.721630e+12  Female  not specified             0              0   \n",
       "1  4.965100e+12  Female  not specified             0              0   \n",
       "2  7.182790e+12    Male  not specified             0              0   \n",
       "3  5.708210e+12  Female  not specified             0              0   \n",
       "4  8.485200e+12  Female  not specified             0              0   \n",
       "\n",
       "   loyalty_program  discount_rate  average_item_value  items_per_order  profit  \n",
       "0                0           0.58                  25               10     -78  \n",
       "1                0           0.32                  41                1       2  \n",
       "2                0           0.39                  54                2      17  \n",
       "3                0           0.45                  16                2      -8  \n",
       "4                0           0.31                  14                5      -5  "
      ]
     },
     "execution_count": 2,
     "metadata": {},
     "output_type": "execute_result"
    }
   ],
   "source": [
    "#Load the data\n",
    "df = pd.read_csv(\"profitable_orders.csv\")\n",
    "df.head()"
   ]
  },
  {
   "cell_type": "code",
   "execution_count": 5,
   "id": "3ccf2516-ca95-4838-8a76-0a64ab83bcf0",
   "metadata": {},
   "outputs": [
    {
     "name": "stdout",
     "output_type": "stream",
     "text": [
      "<class 'pandas.core.frame.DataFrame'>\n",
      "RangeIndex: 208871 entries, 0 to 208870\n",
      "Data columns (total 10 columns):\n",
      " #   Column              Non-Null Count   Dtype  \n",
      "---  ------              --------------   -----  \n",
      " 0   order_number        208871 non-null  float64\n",
      " 1   gender              208871 non-null  object \n",
      " 2   age_group           208871 non-null  object \n",
      " 3   new_customer        208871 non-null  int64  \n",
      " 4   fast_delivery       208871 non-null  int64  \n",
      " 5   loyalty_program     208871 non-null  int64  \n",
      " 6   discount_rate       208871 non-null  float64\n",
      " 7   average_item_value  208871 non-null  int64  \n",
      " 8   items_per_order     208871 non-null  int64  \n",
      " 9   profit              208871 non-null  int64  \n",
      "dtypes: float64(2), int64(6), object(2)\n",
      "memory usage: 15.9+ MB\n"
     ]
    }
   ],
   "source": [
    "\n",
    "#print Df information\n",
    "df.info()"
   ]
  },
  {
   "cell_type": "code",
   "execution_count": 6,
   "id": "66dabd72-f06b-4dbc-b0c7-3be13026d2cf",
   "metadata": {},
   "outputs": [
    {
     "data": {
      "text/html": [
       "<div>\n",
       "<style scoped>\n",
       "    .dataframe tbody tr th:only-of-type {\n",
       "        vertical-align: middle;\n",
       "    }\n",
       "\n",
       "    .dataframe tbody tr th {\n",
       "        vertical-align: top;\n",
       "    }\n",
       "\n",
       "    .dataframe thead th {\n",
       "        text-align: right;\n",
       "    }\n",
       "</style>\n",
       "<table border=\"1\" class=\"dataframe\">\n",
       "  <thead>\n",
       "    <tr style=\"text-align: right;\">\n",
       "      <th></th>\n",
       "      <th>order_number</th>\n",
       "      <th>gender</th>\n",
       "      <th>age_group</th>\n",
       "      <th>new_customer</th>\n",
       "      <th>fast_delivery</th>\n",
       "      <th>loyalty_program</th>\n",
       "      <th>discount_rate</th>\n",
       "      <th>average_item_value</th>\n",
       "      <th>items_per_order</th>\n",
       "      <th>profit</th>\n",
       "      <th>profit_binary</th>\n",
       "    </tr>\n",
       "  </thead>\n",
       "  <tbody>\n",
       "    <tr>\n",
       "      <th>0</th>\n",
       "      <td>5.721630e+12</td>\n",
       "      <td>Female</td>\n",
       "      <td>not specified</td>\n",
       "      <td>0</td>\n",
       "      <td>0</td>\n",
       "      <td>0</td>\n",
       "      <td>0.58</td>\n",
       "      <td>25</td>\n",
       "      <td>10</td>\n",
       "      <td>-78</td>\n",
       "      <td>0</td>\n",
       "    </tr>\n",
       "    <tr>\n",
       "      <th>1</th>\n",
       "      <td>4.965100e+12</td>\n",
       "      <td>Female</td>\n",
       "      <td>not specified</td>\n",
       "      <td>0</td>\n",
       "      <td>0</td>\n",
       "      <td>0</td>\n",
       "      <td>0.32</td>\n",
       "      <td>41</td>\n",
       "      <td>1</td>\n",
       "      <td>2</td>\n",
       "      <td>1</td>\n",
       "    </tr>\n",
       "    <tr>\n",
       "      <th>2</th>\n",
       "      <td>7.182790e+12</td>\n",
       "      <td>Male</td>\n",
       "      <td>not specified</td>\n",
       "      <td>0</td>\n",
       "      <td>0</td>\n",
       "      <td>0</td>\n",
       "      <td>0.39</td>\n",
       "      <td>54</td>\n",
       "      <td>2</td>\n",
       "      <td>17</td>\n",
       "      <td>1</td>\n",
       "    </tr>\n",
       "    <tr>\n",
       "      <th>3</th>\n",
       "      <td>5.708210e+12</td>\n",
       "      <td>Female</td>\n",
       "      <td>not specified</td>\n",
       "      <td>0</td>\n",
       "      <td>0</td>\n",
       "      <td>0</td>\n",
       "      <td>0.45</td>\n",
       "      <td>16</td>\n",
       "      <td>2</td>\n",
       "      <td>-8</td>\n",
       "      <td>0</td>\n",
       "    </tr>\n",
       "    <tr>\n",
       "      <th>4</th>\n",
       "      <td>8.485200e+12</td>\n",
       "      <td>Female</td>\n",
       "      <td>not specified</td>\n",
       "      <td>0</td>\n",
       "      <td>0</td>\n",
       "      <td>0</td>\n",
       "      <td>0.31</td>\n",
       "      <td>14</td>\n",
       "      <td>5</td>\n",
       "      <td>-5</td>\n",
       "      <td>0</td>\n",
       "    </tr>\n",
       "  </tbody>\n",
       "</table>\n",
       "</div>"
      ],
      "text/plain": [
       "   order_number  gender      age_group  new_customer  fast_delivery  \\\n",
       "0  5.721630e+12  Female  not specified             0              0   \n",
       "1  4.965100e+12  Female  not specified             0              0   \n",
       "2  7.182790e+12    Male  not specified             0              0   \n",
       "3  5.708210e+12  Female  not specified             0              0   \n",
       "4  8.485200e+12  Female  not specified             0              0   \n",
       "\n",
       "   loyalty_program  discount_rate  average_item_value  items_per_order  \\\n",
       "0                0           0.58                  25               10   \n",
       "1                0           0.32                  41                1   \n",
       "2                0           0.39                  54                2   \n",
       "3                0           0.45                  16                2   \n",
       "4                0           0.31                  14                5   \n",
       "\n",
       "   profit  profit_binary  \n",
       "0     -78              0  \n",
       "1       2              1  \n",
       "2      17              1  \n",
       "3      -8              0  \n",
       "4      -5              0  "
      ]
     },
     "execution_count": 6,
     "metadata": {},
     "output_type": "execute_result"
    }
   ],
   "source": [
    "#Create the binary variable, profit_binary, that is 1, if the profit is above 0. One way of creating it is to use the where() function from numpy.\n",
    "\n",
    "#Prepare dependent variable\n",
    "df['profit_binary'] = np.where(df[\"profit\"] > 0, 1, 0)\n",
    "df.head()"
   ]
  },
  {
   "cell_type": "code",
   "execution_count": 7,
   "id": "6431ff87-e246-4fb9-8acb-99d4f389a2ba",
   "metadata": {},
   "outputs": [
    {
     "data": {
      "text/html": [
       "<div>\n",
       "<style scoped>\n",
       "    .dataframe tbody tr th:only-of-type {\n",
       "        vertical-align: middle;\n",
       "    }\n",
       "\n",
       "    .dataframe tbody tr th {\n",
       "        vertical-align: top;\n",
       "    }\n",
       "\n",
       "    .dataframe thead th {\n",
       "        text-align: right;\n",
       "    }\n",
       "</style>\n",
       "<table border=\"1\" class=\"dataframe\">\n",
       "  <thead>\n",
       "    <tr style=\"text-align: right;\">\n",
       "      <th></th>\n",
       "      <th>order_number</th>\n",
       "      <th>new_customer</th>\n",
       "      <th>fast_delivery</th>\n",
       "      <th>loyalty_program</th>\n",
       "      <th>discount_rate</th>\n",
       "      <th>average_item_value</th>\n",
       "      <th>items_per_order</th>\n",
       "      <th>profit</th>\n",
       "      <th>profit_binary</th>\n",
       "    </tr>\n",
       "  </thead>\n",
       "  <tbody>\n",
       "    <tr>\n",
       "      <th>count</th>\n",
       "      <td>2.088710e+05</td>\n",
       "      <td>208871.000000</td>\n",
       "      <td>208871.000000</td>\n",
       "      <td>208871.000000</td>\n",
       "      <td>208871.000000</td>\n",
       "      <td>208871.000000</td>\n",
       "      <td>208871.000000</td>\n",
       "      <td>208871.000000</td>\n",
       "      <td>208871.000000</td>\n",
       "    </tr>\n",
       "    <tr>\n",
       "      <th>mean</th>\n",
       "      <td>5.002208e+12</td>\n",
       "      <td>0.056341</td>\n",
       "      <td>0.008982</td>\n",
       "      <td>0.223707</td>\n",
       "      <td>0.275642</td>\n",
       "      <td>54.714690</td>\n",
       "      <td>1.745503</td>\n",
       "      <td>7.230530</td>\n",
       "      <td>0.656592</td>\n",
       "    </tr>\n",
       "    <tr>\n",
       "      <th>std</th>\n",
       "      <td>2.889083e+12</td>\n",
       "      <td>0.230580</td>\n",
       "      <td>0.094345</td>\n",
       "      <td>0.416729</td>\n",
       "      <td>0.193262</td>\n",
       "      <td>46.980543</td>\n",
       "      <td>1.462564</td>\n",
       "      <td>14.895498</td>\n",
       "      <td>0.474847</td>\n",
       "    </tr>\n",
       "    <tr>\n",
       "      <th>min</th>\n",
       "      <td>4.547205e+07</td>\n",
       "      <td>0.000000</td>\n",
       "      <td>0.000000</td>\n",
       "      <td>0.000000</td>\n",
       "      <td>0.000000</td>\n",
       "      <td>1.000000</td>\n",
       "      <td>1.000000</td>\n",
       "      <td>-174.000000</td>\n",
       "      <td>0.000000</td>\n",
       "    </tr>\n",
       "    <tr>\n",
       "      <th>25%</th>\n",
       "      <td>2.496965e+12</td>\n",
       "      <td>0.000000</td>\n",
       "      <td>0.000000</td>\n",
       "      <td>0.000000</td>\n",
       "      <td>0.100000</td>\n",
       "      <td>24.000000</td>\n",
       "      <td>1.000000</td>\n",
       "      <td>-1.000000</td>\n",
       "      <td>0.000000</td>\n",
       "    </tr>\n",
       "    <tr>\n",
       "      <th>50%</th>\n",
       "      <td>4.998800e+12</td>\n",
       "      <td>0.000000</td>\n",
       "      <td>0.000000</td>\n",
       "      <td>0.000000</td>\n",
       "      <td>0.300000</td>\n",
       "      <td>40.000000</td>\n",
       "      <td>1.000000</td>\n",
       "      <td>4.000000</td>\n",
       "      <td>1.000000</td>\n",
       "    </tr>\n",
       "    <tr>\n",
       "      <th>75%</th>\n",
       "      <td>7.507100e+12</td>\n",
       "      <td>0.000000</td>\n",
       "      <td>0.000000</td>\n",
       "      <td>0.000000</td>\n",
       "      <td>0.450000</td>\n",
       "      <td>70.000000</td>\n",
       "      <td>2.000000</td>\n",
       "      <td>11.000000</td>\n",
       "      <td>1.000000</td>\n",
       "    </tr>\n",
       "    <tr>\n",
       "      <th>max</th>\n",
       "      <td>9.999990e+12</td>\n",
       "      <td>1.000000</td>\n",
       "      <td>1.000000</td>\n",
       "      <td>1.000000</td>\n",
       "      <td>0.860000</td>\n",
       "      <td>1190.000000</td>\n",
       "      <td>98.000000</td>\n",
       "      <td>442.000000</td>\n",
       "      <td>1.000000</td>\n",
       "    </tr>\n",
       "  </tbody>\n",
       "</table>\n",
       "</div>"
      ],
      "text/plain": [
       "       order_number   new_customer  fast_delivery  loyalty_program  \\\n",
       "count  2.088710e+05  208871.000000  208871.000000    208871.000000   \n",
       "mean   5.002208e+12       0.056341       0.008982         0.223707   \n",
       "std    2.889083e+12       0.230580       0.094345         0.416729   \n",
       "min    4.547205e+07       0.000000       0.000000         0.000000   \n",
       "25%    2.496965e+12       0.000000       0.000000         0.000000   \n",
       "50%    4.998800e+12       0.000000       0.000000         0.000000   \n",
       "75%    7.507100e+12       0.000000       0.000000         0.000000   \n",
       "max    9.999990e+12       1.000000       1.000000         1.000000   \n",
       "\n",
       "       discount_rate  average_item_value  items_per_order         profit  \\\n",
       "count  208871.000000       208871.000000    208871.000000  208871.000000   \n",
       "mean        0.275642           54.714690         1.745503       7.230530   \n",
       "std         0.193262           46.980543         1.462564      14.895498   \n",
       "min         0.000000            1.000000         1.000000    -174.000000   \n",
       "25%         0.100000           24.000000         1.000000      -1.000000   \n",
       "50%         0.300000           40.000000         1.000000       4.000000   \n",
       "75%         0.450000           70.000000         2.000000      11.000000   \n",
       "max         0.860000         1190.000000        98.000000     442.000000   \n",
       "\n",
       "       profit_binary  \n",
       "count  208871.000000  \n",
       "mean        0.656592  \n",
       "std         0.474847  \n",
       "min         0.000000  \n",
       "25%         0.000000  \n",
       "50%         1.000000  \n",
       "75%         1.000000  \n",
       "max         1.000000  "
      ]
     },
     "execution_count": 7,
     "metadata": {},
     "output_type": "execute_result"
    }
   ],
   "source": [
    "#Use the describe() function to look at the summary statistics.\n",
    "\n",
    "#Summary statistics\n",
    "df.describe()"
   ]
  },
  {
   "cell_type": "code",
   "execution_count": null,
   "id": "3e51128e-9040-4861-9320-a00de037b163",
   "metadata": {},
   "outputs": [],
   "source": [
    "#Average_item_value and items_per_order have clear outliers that need to be removed to\n",
    "improve the analysis. The profit_binary variable average is 0.66, \n",
    "which means that 66% of the values are 1. As a result, the data set is imbalanced."
   ]
  },
  {
   "cell_type": "code",
   "execution_count": 8,
   "id": "035d7ca4-1b5b-4026-9ca0-dffc830127d9",
   "metadata": {},
   "outputs": [
    {
     "data": {
      "text/plain": [
       "array([[<AxesSubplot:title={'center':'discount_rate'}>,\n",
       "        <AxesSubplot:title={'center':'average_item_value'}>],\n",
       "       [<AxesSubplot:title={'center':'items_per_order'}>, <AxesSubplot:>]],\n",
       "      dtype=object)"
      ]
     },
     "execution_count": 8,
     "metadata": {},
     "output_type": "execute_result"
    },
    {
     "data": {
      "image/png": "[encoded data removed]",
      "text/plain": [
       "<Figure size 640x480 with 4 Axes>"
      ]
     },
     "metadata": {},
     "output_type": "display_data"
    }
   ],
   "source": [
    "#Create histograms by using the hist() function from Pandas after selecting the 3 variables.\n",
    "\n",
    "#plot histograms\n",
    "df.loc[:,[\"discount_rate\", \"average_item_value\", \"items_per_order\"]].hist()"
   ]
  },
  {
   "cell_type": "code",
   "execution_count": 9,
   "id": "59169cf6-7f53-463d-8f3a-51bc06d5d8a8",
   "metadata": {},
   "outputs": [
    {
     "data": {
      "text/plain": [
       "array([[<AxesSubplot:title={'center':'discount_rate'}>,\n",
       "        <AxesSubplot:title={'center':'average_item_value'}>],\n",
       "       [<AxesSubplot:title={'center':'items_per_order'}>, <AxesSubplot:>]],\n",
       "      dtype=object)"
      ]
     },
     "execution_count": 9,
     "metadata": {},
     "output_type": "execute_result"
    },
    {
     "data": {
      "image/png": "[encoded data removed]",
      "text/plain": [
       "<Figure size 640x480 with 4 Axes>"
      ]
     },
     "metadata": {},
     "output_type": "display_data"
    }
   ],
   "source": [
    "#Remove outliers by excluding extreme errors from the average_item_value and items_per_order. One possible solution is the following:\n",
    "\n",
    "#Removing outliers\n",
    "df = df[df[\"items_per_order\"] < 10]\n",
    "df = df[df[\"average_item_value\"] < 250]\n",
    " \n",
    "#plotting again to see the differences in the histograms\n",
    "df.loc[:,[\"discount_rate\", \"average_item_value\", \"items_per_order\"]].hist()"
   ]
  },
  {
   "cell_type": "code",
   "execution_count": 10,
   "id": "421c7c75-a1a4-4c76-a0d3-cace05aade73",
   "metadata": {},
   "outputs": [
    {
     "data": {
      "text/plain": [
       "not specified    148090\n",
       "30 - 39 years     19134\n",
       "20 - 29 years     16515\n",
       "40 - 49 years     13424\n",
       "50 - 59 years      6358\n",
       "60 years           1648\n",
       "< 20 years         1348\n",
       "Name: age_group, dtype: int64"
      ]
     },
     "execution_count": 10,
     "metadata": {},
     "output_type": "execute_result"
    }
   ],
   "source": [
    "#Use the value_counts() function to count how many values there are per unique age_group\n",
    "\n",
    "#Check age group possibilities\n",
    "df.age_group.value_counts()"
   ]
  },
  {
   "cell_type": "code",
   "execution_count": 11,
   "id": "bbca889e-21d2-4b88-8917-aaba94652a5d",
   "metadata": {},
   "outputs": [
    {
     "data": {
      "text/plain": [
       "Female    120312\n",
       "Male       56129\n",
       "           30076\n",
       "Name: gender, dtype: int64"
      ]
     },
     "execution_count": 11,
     "metadata": {},
     "output_type": "execute_result"
    }
   ],
   "source": [
    "#Check gender possibilities\n",
    "df.gender.value_counts()"
   ]
  },
  {
   "cell_type": "code",
   "execution_count": 12,
   "id": "807d03d6-e4ad-4218-9d7e-95b54ddb4580",
   "metadata": {},
   "outputs": [
    {
     "data": {
      "text/html": [
       "<div>\n",
       "<style scoped>\n",
       "    .dataframe tbody tr th:only-of-type {\n",
       "        vertical-align: middle;\n",
       "    }\n",
       "\n",
       "    .dataframe tbody tr th {\n",
       "        vertical-align: top;\n",
       "    }\n",
       "\n",
       "    .dataframe thead th {\n",
       "        text-align: right;\n",
       "    }\n",
       "</style>\n",
       "<table border=\"1\" class=\"dataframe\">\n",
       "  <thead>\n",
       "    <tr style=\"text-align: right;\">\n",
       "      <th></th>\n",
       "      <th>order_number</th>\n",
       "      <th>new_customer</th>\n",
       "      <th>fast_delivery</th>\n",
       "      <th>loyalty_program</th>\n",
       "      <th>discount_rate</th>\n",
       "      <th>average_item_value</th>\n",
       "      <th>items_per_order</th>\n",
       "      <th>profit</th>\n",
       "      <th>profit_binary</th>\n",
       "      <th>gender_Female</th>\n",
       "      <th>gender_Male</th>\n",
       "      <th>age_group_30 - 39 years</th>\n",
       "      <th>age_group_40 - 49 years</th>\n",
       "      <th>age_group_50 - 59 years</th>\n",
       "      <th>age_group_60 years</th>\n",
       "      <th>age_group_&lt; 20 years</th>\n",
       "      <th>age_group_not specified</th>\n",
       "    </tr>\n",
       "  </thead>\n",
       "  <tbody>\n",
       "    <tr>\n",
       "      <th>1</th>\n",
       "      <td>4.965100e+12</td>\n",
       "      <td>0</td>\n",
       "      <td>0</td>\n",
       "      <td>0</td>\n",
       "      <td>0.32</td>\n",
       "      <td>41</td>\n",
       "      <td>1</td>\n",
       "      <td>2</td>\n",
       "      <td>1</td>\n",
       "      <td>1</td>\n",
       "      <td>0</td>\n",
       "      <td>0</td>\n",
       "      <td>0</td>\n",
       "      <td>0</td>\n",
       "      <td>0</td>\n",
       "      <td>0</td>\n",
       "      <td>1</td>\n",
       "    </tr>\n",
       "    <tr>\n",
       "      <th>2</th>\n",
       "      <td>7.182790e+12</td>\n",
       "      <td>0</td>\n",
       "      <td>0</td>\n",
       "      <td>0</td>\n",
       "      <td>0.39</td>\n",
       "      <td>54</td>\n",
       "      <td>2</td>\n",
       "      <td>17</td>\n",
       "      <td>1</td>\n",
       "      <td>0</td>\n",
       "      <td>1</td>\n",
       "      <td>0</td>\n",
       "      <td>0</td>\n",
       "      <td>0</td>\n",
       "      <td>0</td>\n",
       "      <td>0</td>\n",
       "      <td>1</td>\n",
       "    </tr>\n",
       "    <tr>\n",
       "      <th>3</th>\n",
       "      <td>5.708210e+12</td>\n",
       "      <td>0</td>\n",
       "      <td>0</td>\n",
       "      <td>0</td>\n",
       "      <td>0.45</td>\n",
       "      <td>16</td>\n",
       "      <td>2</td>\n",
       "      <td>-8</td>\n",
       "      <td>0</td>\n",
       "      <td>1</td>\n",
       "      <td>0</td>\n",
       "      <td>0</td>\n",
       "      <td>0</td>\n",
       "      <td>0</td>\n",
       "      <td>0</td>\n",
       "      <td>0</td>\n",
       "      <td>1</td>\n",
       "    </tr>\n",
       "    <tr>\n",
       "      <th>4</th>\n",
       "      <td>8.485200e+12</td>\n",
       "      <td>0</td>\n",
       "      <td>0</td>\n",
       "      <td>0</td>\n",
       "      <td>0.31</td>\n",
       "      <td>14</td>\n",
       "      <td>5</td>\n",
       "      <td>-5</td>\n",
       "      <td>0</td>\n",
       "      <td>1</td>\n",
       "      <td>0</td>\n",
       "      <td>0</td>\n",
       "      <td>0</td>\n",
       "      <td>0</td>\n",
       "      <td>0</td>\n",
       "      <td>0</td>\n",
       "      <td>1</td>\n",
       "    </tr>\n",
       "    <tr>\n",
       "      <th>5</th>\n",
       "      <td>1.703790e+12</td>\n",
       "      <td>0</td>\n",
       "      <td>0</td>\n",
       "      <td>1</td>\n",
       "      <td>0.11</td>\n",
       "      <td>76</td>\n",
       "      <td>1</td>\n",
       "      <td>20</td>\n",
       "      <td>1</td>\n",
       "      <td>1</td>\n",
       "      <td>0</td>\n",
       "      <td>1</td>\n",
       "      <td>0</td>\n",
       "      <td>0</td>\n",
       "      <td>0</td>\n",
       "      <td>0</td>\n",
       "      <td>0</td>\n",
       "    </tr>\n",
       "  </tbody>\n",
       "</table>\n",
       "</div>"
      ],
      "text/plain": [
       "   order_number  new_customer  fast_delivery  loyalty_program  discount_rate  \\\n",
       "1  4.965100e+12             0              0                0           0.32   \n",
       "2  7.182790e+12             0              0                0           0.39   \n",
       "3  5.708210e+12             0              0                0           0.45   \n",
       "4  8.485200e+12             0              0                0           0.31   \n",
       "5  1.703790e+12             0              0                1           0.11   \n",
       "\n",
       "   average_item_value  items_per_order  profit  profit_binary  gender_Female  \\\n",
       "1                  41                1       2              1              1   \n",
       "2                  54                2      17              1              0   \n",
       "3                  16                2      -8              0              1   \n",
       "4                  14                5      -5              0              1   \n",
       "5                  76                1      20              1              1   \n",
       "\n",
       "   gender_Male  age_group_30 - 39 years  age_group_40 - 49 years  \\\n",
       "1            0                        0                        0   \n",
       "2            1                        0                        0   \n",
       "3            0                        0                        0   \n",
       "4            0                        0                        0   \n",
       "5            0                        1                        0   \n",
       "\n",
       "   age_group_50 - 59 years  age_group_60 years  age_group_< 20 years  \\\n",
       "1                        0                   0                     0   \n",
       "2                        0                   0                     0   \n",
       "3                        0                   0                     0   \n",
       "4                        0                   0                     0   \n",
       "5                        0                   0                     0   \n",
       "\n",
       "   age_group_not specified  \n",
       "1                        1  \n",
       "2                        1  \n",
       "3                        1  \n",
       "4                        1  \n",
       "5                        0  "
      ]
     },
     "execution_count": 12,
     "metadata": {},
     "output_type": "execute_result"
    }
   ],
   "source": [
    "#Apply the get_dummies() function from Pandas to create the binary variables.\n",
    "\n",
    "#Transform objects into dummy variables\n",
    "df = pd.get_dummies(df, drop_first = True)\n",
    "df.head()"
   ]
  },
  {
   "cell_type": "code",
   "execution_count": 14,
   "id": "461c771d-234f-44fa-b724-db968202a75e",
   "metadata": {},
   "outputs": [],
   "source": [
    "#Isolate the Dependent (y) and Independent (X) variables.\n",
    "\n",
    "# Isolate X and y\n",
    "y = df.profit_binary\n",
    "X = df.drop(columns = [\"order_number\", \"profit\", \"profit_binary\"])"
   ]
  },
  {
   "cell_type": "code",
   "execution_count": 15,
   "id": "be77347e-bd39-441f-a869-6b8294c2c51b",
   "metadata": {},
   "outputs": [
    {
     "data": {
      "text/html": [
       "<div>\n",
       "<style scoped>\n",
       "    .dataframe tbody tr th:only-of-type {\n",
       "        vertical-align: middle;\n",
       "    }\n",
       "\n",
       "    .dataframe tbody tr th {\n",
       "        vertical-align: top;\n",
       "    }\n",
       "\n",
       "    .dataframe thead th {\n",
       "        text-align: right;\n",
       "    }\n",
       "</style>\n",
       "<table border=\"1\" class=\"dataframe\">\n",
       "  <thead>\n",
       "    <tr style=\"text-align: right;\">\n",
       "      <th></th>\n",
       "      <th>const</th>\n",
       "      <th>new_customer</th>\n",
       "      <th>fast_delivery</th>\n",
       "      <th>loyalty_program</th>\n",
       "      <th>discount_rate</th>\n",
       "      <th>average_item_value</th>\n",
       "      <th>items_per_order</th>\n",
       "      <th>gender_Female</th>\n",
       "      <th>gender_Male</th>\n",
       "      <th>age_group_30 - 39 years</th>\n",
       "      <th>age_group_40 - 49 years</th>\n",
       "      <th>age_group_50 - 59 years</th>\n",
       "      <th>age_group_60 years</th>\n",
       "      <th>age_group_&lt; 20 years</th>\n",
       "      <th>age_group_not specified</th>\n",
       "    </tr>\n",
       "  </thead>\n",
       "  <tbody>\n",
       "    <tr>\n",
       "      <th>1</th>\n",
       "      <td>1.0</td>\n",
       "      <td>0</td>\n",
       "      <td>0</td>\n",
       "      <td>0</td>\n",
       "      <td>0.32</td>\n",
       "      <td>41</td>\n",
       "      <td>1</td>\n",
       "      <td>1</td>\n",
       "      <td>0</td>\n",
       "      <td>0</td>\n",
       "      <td>0</td>\n",
       "      <td>0</td>\n",
       "      <td>0</td>\n",
       "      <td>0</td>\n",
       "      <td>1</td>\n",
       "    </tr>\n",
       "    <tr>\n",
       "      <th>2</th>\n",
       "      <td>1.0</td>\n",
       "      <td>0</td>\n",
       "      <td>0</td>\n",
       "      <td>0</td>\n",
       "      <td>0.39</td>\n",
       "      <td>54</td>\n",
       "      <td>2</td>\n",
       "      <td>0</td>\n",
       "      <td>1</td>\n",
       "      <td>0</td>\n",
       "      <td>0</td>\n",
       "      <td>0</td>\n",
       "      <td>0</td>\n",
       "      <td>0</td>\n",
       "      <td>1</td>\n",
       "    </tr>\n",
       "  </tbody>\n",
       "</table>\n",
       "</div>"
      ],
      "text/plain": [
       "   const  new_customer  fast_delivery  loyalty_program  discount_rate  \\\n",
       "1    1.0             0              0                0           0.32   \n",
       "2    1.0             0              0                0           0.39   \n",
       "\n",
       "   average_item_value  items_per_order  gender_Female  gender_Male  \\\n",
       "1                  41                1              1            0   \n",
       "2                  54                2              0            1   \n",
       "\n",
       "   age_group_30 - 39 years  age_group_40 - 49 years  age_group_50 - 59 years  \\\n",
       "1                        0                        0                        0   \n",
       "2                        0                        0                        0   \n",
       "\n",
       "   age_group_60 years  age_group_< 20 years  age_group_not specified  \n",
       "1                   0                     0                        1  \n",
       "2                   0                     0                        1  "
      ]
     },
     "execution_count": 15,
     "metadata": {},
     "output_type": "execute_result"
    }
   ],
   "source": [
    "#Add a constant to X with the add_constant() function.\n",
    "\n",
    "#Add constant to X\n",
    "X = sm.add_constant(X)\n",
    "X.head(2)"
   ]
  },
  {
   "cell_type": "code",
   "execution_count": 17,
   "id": "8a9140bb-ce35-4af8-8a4c-32120ce48dbc",
   "metadata": {},
   "outputs": [],
   "source": [
    "#Apply the train_test_split function, setting the test_size to 0.2 and random_state to 1502.\n",
    "\n",
    "#Training and test set\n",
    "from sklearn.model_selection import train_test_split\n",
    "X_train, X_test, y_train, y_test = train_test_split(X, y,\n",
    "                                                    test_size = 0.2,\n",
    "                                                    random_state = 1502)"
   ]
  },
  {
   "cell_type": "code",
   "execution_count": 18,
   "id": "5b111a76-081b-4946-9e24-9775b594700a",
   "metadata": {},
   "outputs": [
    {
     "name": "stdout",
     "output_type": "stream",
     "text": [
      "Optimization terminated successfully.\n",
      "         Current function value: 0.511278\n",
      "         Iterations 7\n"
     ]
    }
   ],
   "source": [
    "#Use the Logit functions entering the X_train and y_train while inputting the fit method.\n",
    "\n",
    "# Build the Logistic Regression model\n",
    "model = sm.Logit(y_train, X_train).fit()"
   ]
  },
  {
   "cell_type": "code",
   "execution_count": 19,
   "id": "fc52dc68-06c7-41d5-a9bd-dd031140d7be",
   "metadata": {},
   "outputs": [
    {
     "name": "stdout",
     "output_type": "stream",
     "text": [
      "                           Logit Regression Results                           \n",
      "==============================================================================\n",
      "Dep. Variable:          profit_binary   No. Observations:               165213\n",
      "Model:                          Logit   Df Residuals:                   165198\n",
      "Method:                           MLE   Df Model:                           14\n",
      "Date:                Sun, 06 Aug 2023   Pseudo R-squ.:                  0.2063\n",
      "Time:                        13:16:30   Log-Likelihood:                -84470.\n",
      "converged:                       True   LL-Null:                   -1.0643e+05\n",
      "Covariance Type:            nonrobust   LLR p-value:                     0.000\n",
      "===========================================================================================\n",
      "                              coef    std err          z      P>|z|      [0.025      0.975]\n",
      "-------------------------------------------------------------------------------------------\n",
      "const                       1.0149      0.032     32.191      0.000       0.953       1.077\n",
      "new_customer                0.2301      0.029      7.942      0.000       0.173       0.287\n",
      "fast_delivery               1.7532      0.109     16.055      0.000       1.539       1.967\n",
      "loyalty_program            -0.4522      0.014    -32.037      0.000      -0.480      -0.425\n",
      "discount_rate              -4.6228      0.034   -134.492      0.000      -4.690      -4.555\n",
      "average_item_value          0.0231      0.000     99.353      0.000       0.023       0.024\n",
      "items_per_order             0.0088      0.005      1.814      0.070      -0.001       0.018\n",
      "gender_Female               0.0137      0.018      0.769      0.442      -0.021       0.049\n",
      "gender_Male                 0.1943      0.020      9.814      0.000       0.155       0.233\n",
      "age_group_30 - 39 years     0.1467      0.029      5.107      0.000       0.090       0.203\n",
      "age_group_40 - 49 years     0.1421      0.032      4.509      0.000       0.080       0.204\n",
      "age_group_50 - 59 years     0.1156      0.041      2.845      0.004       0.036       0.195\n",
      "age_group_60 years          0.1761      0.071      2.468      0.014       0.036       0.316\n",
      "age_group_< 20 years       -0.2165      0.079     -2.753      0.006      -0.371      -0.062\n",
      "age_group_not specified    -0.0550      0.022     -2.471      0.013      -0.099      -0.011\n",
      "===========================================================================================\n"
     ]
    }
   ],
   "source": [
    "#Print the model summary. Make sure to use the print() function in combination.\n",
    "\n",
    "#Print the Logistic Regression model summary\n",
    "print(model.summary())"
   ]
  },
  {
   "cell_type": "code",
   "execution_count": null,
   "id": "e6596e43-8d57-42f2-a2b7-410c83e44368",
   "metadata": {},
   "outputs": [],
   "source": [
    "#The gender_female is not statistically significant. Nor the items_per_order,\n",
    "although it would be significant at the 10% level. The loyalty_program, discount_rate, \n",
    "age group below 20 and age not specified contribute\n",
    "negatively to making an order profitable. Everything else contributes positively."
   ]
  },
  {
   "cell_type": "code",
   "execution_count": 21,
   "id": "6975a408-e176-49d9-ac8d-bf58d7ea8bbf",
   "metadata": {},
   "outputs": [],
   "source": [
    "#Create the function with three possibilities: coefficient = 0, bigger than 0 and lower than 0. The formula for computing the probability increase is (exp(coefficient) -1) * 100 %.\n",
    "\n",
    "#Create the function\n",
    "def logistic_reader(coefficient):\n",
    "  probability = round((np.exp(coefficient) - 1) * 100, 2)\n",
    "  if probability > 0:\n",
    "    print(f\"The likelihood increases by {probability} %\")\n",
    "  elif probability == 0:\n",
    "    print(\"No impact\")\n",
    "  else:\n",
    "    print(f\"The likelihood decreases by {probability} %\")"
   ]
  },
  {
   "cell_type": "code",
   "execution_count": 22,
   "id": "07a2d75c-6ee5-407a-a670-bc5cc1dae15f",
   "metadata": {},
   "outputs": [
    {
     "name": "stdout",
     "output_type": "stream",
     "text": [
      "The likelihood increases by 25.86 %\n"
     ]
    }
   ],
   "source": [
    "#Apply the function to the new_customer variable.\n",
    "\n",
    "#Apply the function for new customers\n",
    "logistic_reader(0.23)"
   ]
  },
  {
   "cell_type": "code",
   "execution_count": null,
   "id": "f1b91209-f5c3-4220-8e3e-74ece438792b",
   "metadata": {},
   "outputs": [],
   "source": []
  },
  {
   "cell_type": "code",
   "execution_count": null,
   "id": "7fd1261d-8151-4d1f-9b1d-bf70d13f18ef",
   "metadata": {},
   "outputs": [],
   "source": [
    "If the order comes from a new customer,\n",
    "the probability that the order is profitable increases by 25.86%.\n",
    "\n"
   ]
  },
  {
   "cell_type": "code",
   "execution_count": 23,
   "id": "dee16203-edaa-4271-8232-5d612705d307",
   "metadata": {},
   "outputs": [
    {
     "name": "stdout",
     "output_type": "stream",
     "text": [
      "The likelihood increases by 2.02 %\n"
     ]
    }
   ],
   "source": [
    "#Repeat the process for the average_item_value variable.\n",
    "\n",
    "#Apply the function for average_item value\n",
    "logistic_reader(0.02)"
   ]
  },
  {
   "cell_type": "code",
   "execution_count": null,
   "id": "d536a30d-12bc-42f3-8342-cf9517c42457",
   "metadata": {},
   "outputs": [],
   "source": [
    "#For each unit increase in the average_item_value,\n",
    "the probability that the order is profitable improves by 2.02%."
   ]
  },
  {
   "cell_type": "code",
   "execution_count": 24,
   "id": "2d94469d-38d1-4f87-a1d5-f895bdba9470",
   "metadata": {},
   "outputs": [
    {
     "data": {
      "text/plain": [
       "15823     0.784328\n",
       "199591    0.386870\n",
       "40015     0.858050\n",
       "156089    0.928858\n",
       "42914     0.350873\n",
       "dtype: float64"
      ]
     },
     "execution_count": 24,
     "metadata": {},
     "output_type": "execute_result"
    }
   ],
   "source": [
    "#Use the model with the predict function to make the predictions.\n",
    "\n",
    "# Apply the model to make the predictions\n",
    "predictions = model.predict(X_test)\n",
    "predictions[:5]"
   ]
  },
  {
   "cell_type": "code",
   "execution_count": 25,
   "id": "d3745c2d-efb0-4546-ba66-4abcb421dda5",
   "metadata": {},
   "outputs": [
    {
     "data": {
      "text/plain": [
       "array([1, 0, 1, 1, 0])"
      ]
     },
     "execution_count": 25,
     "metadata": {},
     "output_type": "execute_result"
    }
   ],
   "source": [
    "#Transform the predictions into 1s or 0s using the where function from numpy.\n",
    "\n",
    "#Transform the predictions into 1 and 0\n",
    "predictions = np.where(predictions > 0.5, 1, 0)\n",
    "predictions[:5]"
   ]
  },
  {
   "cell_type": "code",
   "execution_count": 26,
   "id": "2ac26a4a-37ae-447f-be5d-54e79c779da9",
   "metadata": {},
   "outputs": [
    {
     "name": "stdout",
     "output_type": "stream",
     "text": [
      "[[ 8292  5903]\n",
      " [ 3574 23535]]\n"
     ]
    }
   ],
   "source": [
    "#Confusion matrix\n",
    "from sklearn.metrics import confusion_matrix\n",
    "print(confusion_matrix(y_test, predictions))\n",
    "tn, fp, fn, tp = confusion_matrix(y_test, predictions).ravel()"
   ]
  },
  {
   "cell_type": "code",
   "execution_count": 27,
   "id": "3d0737ef-6f65-4518-9f71-e6316b15a1e9",
   "metadata": {},
   "outputs": [
    {
     "name": "stdout",
     "output_type": "stream",
     "text": [
      "Accuracy: 77.1 %\n",
      "F1_score: 83.2 %\n",
      "Specificity: 58.4 %\n",
      "Sensitivity: 86.8 %\n"
     ]
    }
   ],
   "source": [
    "#Accuracy\n",
    "accuracy = (tp + tn) / (tp + tn + fp + fn)\n",
    "print(\"Accuracy:\", round(accuracy * 100, 1), \"%\")\n",
    " \n",
    "#F1_score\n",
    "f1 = 2 * tp / (2 * tp + fn + fp)\n",
    "print(\"F1_score:\", round(f1 * 100, 1), \"%\")\n",
    " \n",
    "#Specificity\n",
    "specificity = tn / (tn + fp)\n",
    "print(\"Specificity:\", round(specificity * 100, 1), \"%\")\n",
    " \n",
    "#Sensitivity\n",
    "sensitivity = tp / (tp + fn)\n",
    "print(\"Sensitivity:\", round(sensitivity * 100, 1), \"%\")"
   ]
  },
  {
   "cell_type": "code",
   "execution_count": null,
   "id": "72553978-3bcc-469b-b80b-84f7a3c6915c",
   "metadata": {},
   "outputs": [],
   "source": []
  }
 ],
 "metadata": {
  "kernelspec": {
   "display_name": "Python 3 (ipykernel)",
   "language": "python",
   "name": "python3"
  },
  "language_info": {
   "codemirror_mode": {
    "name": "ipython",
    "version": 3
   },
   "file_extension": ".py",
   "mimetype": "text/x-python",
   "name": "python",
   "nbconvert_exporter": "python",
   "pygments_lexer": "ipython3",
   "version": "3.8.10"
  }
 },
 "nbformat": 4,
 "nbformat_minor": 5
}
